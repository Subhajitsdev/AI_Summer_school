{
  "nbformat": 4,
  "nbformat_minor": 0,
  "metadata": {
    "colab": {
      "provenance": [],
      "include_colab_link": true
    },
    "kernelspec": {
      "name": "python3",
      "display_name": "Python 3"
    },
    "language_info": {
      "name": "python"
    }
  },
  "cells": [
    {
      "cell_type": "markdown",
      "metadata": {
        "id": "view-in-github",
        "colab_type": "text"
      },
      "source": [
        "<a href=\"https://colab.research.google.com/github/Subhajitsdev/AI_Summer_school/blob/main/Copy_of_data_structures.ipynb\" target=\"_parent\"><img src=\"https://colab.research.google.com/assets/colab-badge.svg\" alt=\"Open In Colab\"/></a>"
      ]
    },
    {
      "cell_type": "markdown",
      "source": [
        "# Data Structures\n",
        "\n",
        "- Data Structures are data storing formats\n",
        "- Each format would ease the access of data in a particular case\n",
        "- We will cover lists, tuples, sets and dictionaries"
      ],
      "metadata": {
        "id": "ziAZouJHdXkY"
      }
    },
    {
      "cell_type": "markdown",
      "source": [
        "# Lists\n",
        "\n",
        "  - An ordered data structure with elements separated by a comma and enclosed within square brackets\n",
        "\n",
        "\n",
        "\n"
      ],
      "metadata": {
        "id": "alWcpfJtvJEh"
      }
    },
    {
      "cell_type": "code",
      "source": [
        "# Defining a list\n",
        "lst = [1, 2, \"hello\", \"world\", True]\n",
        "lst"
      ],
      "metadata": {
        "colab": {
          "base_uri": "https://localhost:8080/"
        },
        "id": "_3h4Fnz5vZjr",
        "outputId": "11d771b5-6977-4a35-c01e-eae828d76acd"
      },
      "execution_count": null,
      "outputs": [
        {
          "output_type": "execute_result",
          "data": {
            "text/plain": [
              "[1, 2, 'hello', 'world', True]"
            ]
          },
          "metadata": {},
          "execution_count": 16
        }
      ]
    },
    {
      "cell_type": "code",
      "source": [
        "# Accessing individual elements of a list\n",
        "print(lst[0], lst[2])"
      ],
      "metadata": {
        "colab": {
          "base_uri": "https://localhost:8080/"
        },
        "id": "FC5pkYSxwdH4",
        "outputId": "87ae6743-9b3c-49cc-f9a6-794ee6b852be"
      },
      "execution_count": null,
      "outputs": [
        {
          "output_type": "stream",
          "name": "stdout",
          "text": [
            "1 hello\n"
          ]
        }
      ]
    },
    {
      "cell_type": "code",
      "source": [
        "# Length of the list\n",
        "len(lst)"
      ],
      "metadata": {
        "colab": {
          "base_uri": "https://localhost:8080/"
        },
        "id": "8nZi3npcwp9D",
        "outputId": "c2186993-c257-4361-e194-19b0d008a665"
      },
      "execution_count": null,
      "outputs": [
        {
          "output_type": "execute_result",
          "data": {
            "text/plain": [
              "5"
            ]
          },
          "metadata": {},
          "execution_count": 18
        }
      ]
    },
    {
      "cell_type": "code",
      "source": [
        "# Adding elements to the list\n",
        "lst.append(\"hi\")\n",
        "lst.append(\"bye\")\n",
        "lst"
      ],
      "metadata": {
        "colab": {
          "base_uri": "https://localhost:8080/"
        },
        "id": "oP2uiuYlw4GY",
        "outputId": "bc72083e-6abc-4ccd-c19c-81208e982754"
      },
      "execution_count": null,
      "outputs": [
        {
          "output_type": "execute_result",
          "data": {
            "text/plain": [
              "[1, 2, 'hello', 'world', True, 'hi', 'bye']"
            ]
          },
          "metadata": {},
          "execution_count": 19
        }
      ]
    },
    {
      "cell_type": "code",
      "source": [
        "# Creating list of number using for loop\n",
        "new_lst = []\n",
        "for i in range(20):\n",
        "  new_lst.append(i)\n",
        "new_lst"
      ],
      "metadata": {
        "colab": {
          "base_uri": "https://localhost:8080/"
        },
        "id": "yW4S2VrQx0J0",
        "outputId": "833c8f55-fbab-4398-c3b9-4b4b4eceb98e"
      },
      "execution_count": null,
      "outputs": [
        {
          "output_type": "execute_result",
          "data": {
            "text/plain": [
              "[0, 1, 2, 3, 4, 5, 6, 7, 8, 9, 10, 11, 12, 13, 14, 15, 16, 17, 18, 19]"
            ]
          },
          "metadata": {},
          "execution_count": 20
        }
      ]
    },
    {
      "cell_type": "code",
      "source": [
        "# Creating list of numbers using range\n",
        "new_lst = list(range(20))\n",
        "new_lst"
      ],
      "metadata": {
        "colab": {
          "base_uri": "https://localhost:8080/"
        },
        "id": "JNxWk3L5xYtD",
        "outputId": "c1d79d02-99ff-45a4-dd5e-db335d6aba67"
      },
      "execution_count": null,
      "outputs": [
        {
          "output_type": "execute_result",
          "data": {
            "text/plain": [
              "[0, 1, 2, 3, 4, 5, 6, 7, 8, 9, 10, 11, 12, 13, 14, 15, 16, 17, 18, 19]"
            ]
          },
          "metadata": {},
          "execution_count": 21
        }
      ]
    },
    {
      "cell_type": "code",
      "source": [
        "# Creating list of characters in a string using loop\n",
        "new_lst = []\n",
        "word = \"hello\"\n",
        "for i in range(len(word)):\n",
        "  new_lst.append(word[i])\n",
        "new_lst"
      ],
      "metadata": {
        "colab": {
          "base_uri": "https://localhost:8080/"
        },
        "id": "QZ30uMruyTiw",
        "outputId": "62181fc6-f7ff-4ece-89f6-ec07416a059f"
      },
      "execution_count": null,
      "outputs": [
        {
          "output_type": "execute_result",
          "data": {
            "text/plain": [
              "['h', 'e', 'l', 'l', 'o']"
            ]
          },
          "metadata": {},
          "execution_count": 22
        }
      ]
    },
    {
      "cell_type": "code",
      "source": [
        "# Creating list of characters in a string\n",
        "new_lst = list(\"hello\")\n",
        "new_lst"
      ],
      "metadata": {
        "colab": {
          "base_uri": "https://localhost:8080/"
        },
        "id": "ST8aRcW4xm0w",
        "outputId": "7075b187-ec43-4def-d4de-0f269a0ce44f"
      },
      "execution_count": null,
      "outputs": [
        {
          "output_type": "execute_result",
          "data": {
            "text/plain": [
              "['h', 'e', 'l', 'l', 'o']"
            ]
          },
          "metadata": {},
          "execution_count": 23
        }
      ]
    },
    {
      "cell_type": "code",
      "source": [
        "# Negative indexing in lists\n",
        "lst = [1, 2, 3, 4, 5]\n",
        "print(lst[-1], lst[-2])"
      ],
      "metadata": {
        "colab": {
          "base_uri": "https://localhost:8080/"
        },
        "id": "Dp-Yor9mxwbT",
        "outputId": "56ea0d7b-52ac-4181-bd4d-ceb9e15f1440"
      },
      "execution_count": null,
      "outputs": [
        {
          "output_type": "stream",
          "name": "stdout",
          "text": [
            "5 4\n"
          ]
        }
      ]
    },
    {
      "cell_type": "code",
      "source": [
        "# Slicing in lists\n",
        "lst = [1, 2, 3, 4, 5, 6, 7]\n",
        "print(lst[2:4])\n",
        "print(lst[2:])\n",
        "print(lst[:4])\n",
        "print(lst[-4:-2])\n",
        "print(lst[-4:])\n",
        "print(lst[:-2])\n",
        "print(lst == lst[:])"
      ],
      "metadata": {
        "colab": {
          "base_uri": "https://localhost:8080/"
        },
        "id": "5_cJMSqT0Gjt",
        "outputId": "2323068b-77f1-446d-fc8a-cbb273b1c70d"
      },
      "execution_count": null,
      "outputs": [
        {
          "output_type": "stream",
          "name": "stdout",
          "text": [
            "[3, 4]\n",
            "[3, 4, 5, 6, 7]\n",
            "[1, 2, 3, 4]\n",
            "[4, 5]\n",
            "[4, 5, 6, 7]\n",
            "[1, 2, 3, 4, 5]\n",
            "True\n"
          ]
        }
      ]
    },
    {
      "cell_type": "code",
      "source": [
        "# Removing an element in the list\n",
        "lst = [1, 2, 3, 2, 1]\n",
        "lst.remove(2)\n",
        "lst"
      ],
      "metadata": {
        "colab": {
          "base_uri": "https://localhost:8080/"
        },
        "id": "f7v8j_Sn0Z06",
        "outputId": "5a263982-c1c1-40c7-ab4b-d483ca99e030"
      },
      "execution_count": null,
      "outputs": [
        {
          "output_type": "execute_result",
          "data": {
            "text/plain": [
              "[1, 3, 2, 1]"
            ]
          },
          "metadata": {},
          "execution_count": 26
        }
      ]
    },
    {
      "cell_type": "markdown",
      "source": [
        "# Tuples\n",
        "- An ordered data structure with elements separated by a comma and enclosed within parenthesis\n",
        "- Tuples are immutable (i.e. their value cant be changed)\n",
        "- All the methods of list apply here except for anything that changes value of the tuple (immutable)"
      ],
      "metadata": {
        "id": "SFbBeIXA0t_z"
      }
    },
    {
      "cell_type": "code",
      "source": [
        "# Defining a tuple\n",
        "tup = (1, 2, 3, 4, 5)\n",
        "tup"
      ],
      "metadata": {
        "colab": {
          "base_uri": "https://localhost:8080/"
        },
        "id": "EM5VaNn808vc",
        "outputId": "2e4566bc-0ba1-46af-9e15-e6c1f3a07caa"
      },
      "execution_count": null,
      "outputs": [
        {
          "output_type": "execute_result",
          "data": {
            "text/plain": [
              "(1, 2, 3, 4, 5)"
            ]
          },
          "metadata": {},
          "execution_count": 27
        }
      ]
    },
    {
      "cell_type": "code",
      "source": [
        "# Changing the value of the tuple at an index\n",
        "tup[2] = 8"
      ],
      "metadata": {
        "colab": {
          "base_uri": "https://localhost:8080/",
          "height": 179
        },
        "id": "9eS1NfQN1uE4",
        "outputId": "ee60bc99-dc98-478b-b039-da79169646b6"
      },
      "execution_count": null,
      "outputs": [
        {
          "output_type": "error",
          "ename": "TypeError",
          "evalue": "'tuple' object does not support item assignment",
          "traceback": [
            "\u001b[0;31m---------------------------------------------------------------------------\u001b[0m",
            "\u001b[0;31mTypeError\u001b[0m                                 Traceback (most recent call last)",
            "\u001b[0;32m<ipython-input-28-246b11b30396>\u001b[0m in \u001b[0;36m<cell line: 2>\u001b[0;34m()\u001b[0m\n\u001b[1;32m      1\u001b[0m \u001b[0;31m# Changing the value of the tuple at an index\u001b[0m\u001b[0;34m\u001b[0m\u001b[0;34m\u001b[0m\u001b[0m\n\u001b[0;32m----> 2\u001b[0;31m \u001b[0mtup\u001b[0m\u001b[0;34m[\u001b[0m\u001b[0;36m2\u001b[0m\u001b[0;34m]\u001b[0m \u001b[0;34m=\u001b[0m \u001b[0;36m8\u001b[0m\u001b[0;34m\u001b[0m\u001b[0;34m\u001b[0m\u001b[0m\n\u001b[0m",
            "\u001b[0;31mTypeError\u001b[0m: 'tuple' object does not support item assignment"
          ]
        }
      ]
    },
    {
      "cell_type": "code",
      "source": [
        "# Example definition that is wont turn out to be a tuple\n",
        "tup = (4)\n",
        "print(tup, type(tup))\n",
        "lst = [4]\n",
        "print(lst, type(lst))"
      ],
      "metadata": {
        "colab": {
          "base_uri": "https://localhost:8080/"
        },
        "id": "KeSY8mFl1xcE",
        "outputId": "6992ba48-a196-4721-8e3d-90d36a04c741"
      },
      "execution_count": null,
      "outputs": [
        {
          "output_type": "stream",
          "name": "stdout",
          "text": [
            "4 <class 'int'>\n",
            "[4] <class 'list'>\n"
          ]
        }
      ]
    },
    {
      "cell_type": "markdown",
      "source": [
        "# Sets\n",
        "- An ordered data structure with elements separated by a comma and enclosed within curly brackets\n",
        "- Sets are always sorted"
      ],
      "metadata": {
        "id": "RlJAGZ3Q2XqP"
      }
    },
    {
      "cell_type": "code",
      "source": [
        "# A numerical set\n",
        "s = {5, 3, 7, 2, 10}\n",
        "s"
      ],
      "metadata": {
        "colab": {
          "base_uri": "https://localhost:8080/"
        },
        "id": "CdWQGixz2ld2",
        "outputId": "ef02b0b6-9a9f-4633-da30-ce09f886b1a7"
      },
      "execution_count": null,
      "outputs": [
        {
          "output_type": "execute_result",
          "data": {
            "text/plain": [
              "{2, 3, 5, 7, 10}"
            ]
          },
          "metadata": {},
          "execution_count": 30
        }
      ]
    },
    {
      "cell_type": "code",
      "source": [
        "# A word set\n",
        "s = {\"cherry\", \"apple\", \"banana\"}\n",
        "s"
      ],
      "metadata": {
        "colab": {
          "base_uri": "https://localhost:8080/"
        },
        "id": "gScFFQBx2xqf",
        "outputId": "a39a1b99-a714-44f9-ea19-ee2790ecfebe"
      },
      "execution_count": null,
      "outputs": [
        {
          "output_type": "execute_result",
          "data": {
            "text/plain": [
              "{'apple', 'banana', 'cherry'}"
            ]
          },
          "metadata": {},
          "execution_count": 31
        }
      ]
    },
    {
      "cell_type": "code",
      "source": [
        "# Set intersection, union and difference\n",
        "\n",
        "sample_set_1 = {1, 2, 3, 4, 5, 6, 7}\n",
        "sample_set_2 = {1, 2, 3, 4, 5, 8}\n",
        "\n",
        "\n",
        "print(\"The sets: \", sample_set_1, sample_set_2)\n",
        "print(\"Intersection: \", sample_set_1 & sample_set_2)\n",
        "print(\"Union: \", sample_set_1 | sample_set_2)\n",
        "print(\"Difference: \", sample_set_1 - sample_set_2)"
      ],
      "metadata": {
        "colab": {
          "base_uri": "https://localhost:8080/"
        },
        "id": "LI563LAz28AD",
        "outputId": "98b21ffa-0b2b-4708-d6be-48a2d3bcfc00"
      },
      "execution_count": null,
      "outputs": [
        {
          "output_type": "stream",
          "name": "stdout",
          "text": [
            "The sets:  {1, 2, 3, 4, 5, 6, 7} {1, 2, 3, 4, 5, 8}\n",
            "Intersection:  {1, 2, 3, 4, 5}\n",
            "Union:  {1, 2, 3, 4, 5, 6, 7, 8}\n",
            "Difference:  {6, 7}\n"
          ]
        }
      ]
    },
    {
      "cell_type": "markdown",
      "source": [
        "# Dictionary\n",
        "- A Dictionary is collection of key-value pairs\n",
        "- Keys of a dictionary are unique but values can have duplicates"
      ],
      "metadata": {
        "id": "_4XRH_Dx3a_s"
      }
    },
    {
      "cell_type": "code",
      "source": [
        "# Defining a dict\n",
        "shop = {\"pen\": 5,\n",
        "        \"pencil\": 3,\n",
        "        \"book\": 10,\n",
        "        \"sharpener\": 3}\n",
        "shop"
      ],
      "metadata": {
        "colab": {
          "base_uri": "https://localhost:8080/"
        },
        "id": "mgB3YfJh3sXD",
        "outputId": "5e9247c9-0026-4012-84cb-a1c47667dce1"
      },
      "execution_count": null,
      "outputs": [
        {
          "output_type": "execute_result",
          "data": {
            "text/plain": [
              "{'pen': 5, 'pencil': 3, 'book': 10, 'sharpener': 3}"
            ]
          },
          "metadata": {},
          "execution_count": 33
        }
      ]
    },
    {
      "cell_type": "code",
      "source": [
        "# Accessing an element\n",
        "print(f\"Price of the pen is\", shop[\"pen\"], \"rupees\")"
      ],
      "metadata": {
        "colab": {
          "base_uri": "https://localhost:8080/"
        },
        "id": "42e1gTvl45Ps",
        "outputId": "4d1262ac-12d7-4951-c1ea-0d0020fffcbb"
      },
      "execution_count": null,
      "outputs": [
        {
          "output_type": "stream",
          "name": "stdout",
          "text": [
            "Price of the pen is 5 rupees\n"
          ]
        }
      ]
    },
    {
      "cell_type": "code",
      "source": [
        "# Adding an element\n",
        "shop[\"eraser\"] = 2\n",
        "shop"
      ],
      "metadata": {
        "colab": {
          "base_uri": "https://localhost:8080/"
        },
        "id": "b0S-91h35IR8",
        "outputId": "7bf096de-8f15-45ad-b667-506e53a2d4e5"
      },
      "execution_count": null,
      "outputs": [
        {
          "output_type": "execute_result",
          "data": {
            "text/plain": [
              "{'pen': 5, 'pencil': 3, 'book': 10, 'sharpener': 3, 'eraser': 2}"
            ]
          },
          "metadata": {},
          "execution_count": 35
        }
      ]
    },
    {
      "cell_type": "code",
      "source": [
        "# Removing an element\n",
        "shop.pop(\"pencil\")\n",
        "shop"
      ],
      "metadata": {
        "colab": {
          "base_uri": "https://localhost:8080/"
        },
        "id": "hEMy5At35u7u",
        "outputId": "ea7b0c58-3df9-4f6e-efea-a7aae60b0cc1"
      },
      "execution_count": null,
      "outputs": [
        {
          "output_type": "execute_result",
          "data": {
            "text/plain": [
              "{'pen': 5, 'book': 10, 'sharpener': 3, 'eraser': 2}"
            ]
          },
          "metadata": {},
          "execution_count": 36
        }
      ]
    },
    {
      "cell_type": "code",
      "source": [
        "# Getting the keys of the dictionary\n",
        "shop_keys = shop.keys()\n",
        "shop_keys"
      ],
      "metadata": {
        "colab": {
          "base_uri": "https://localhost:8080/"
        },
        "id": "CYTN80vF5aeX",
        "outputId": "199dfc04-6cdb-4cf5-846a-643368390b9c"
      },
      "execution_count": null,
      "outputs": [
        {
          "output_type": "execute_result",
          "data": {
            "text/plain": [
              "dict_keys(['pen', 'book', 'sharpener', 'eraser'])"
            ]
          },
          "metadata": {},
          "execution_count": 37
        }
      ]
    },
    {
      "cell_type": "code",
      "source": [
        "# Getting the values of the dictionary\n",
        "shop_values = shop.values()\n",
        "shop_values"
      ],
      "metadata": {
        "colab": {
          "base_uri": "https://localhost:8080/"
        },
        "id": "2XfcNU7F5hmt",
        "outputId": "f2597780-5bcb-42f6-8cbd-2c8563b0f382"
      },
      "execution_count": null,
      "outputs": [
        {
          "output_type": "execute_result",
          "data": {
            "text/plain": [
              "dict_values([5, 10, 3, 2])"
            ]
          },
          "metadata": {},
          "execution_count": 38
        }
      ]
    },
    {
      "cell_type": "markdown",
      "source": [
        "# Classes and Objects Game\n",
        "\n",
        "## In this example we will build a game with animal super class, a dog class and a cat class inheriting from the animal class.\n",
        "\n",
        "## Here two animals apply their attack subsequently and we will determine the winner."
      ],
      "metadata": {
        "id": "-HRZVJ4TeGDr"
      }
    },
    {
      "cell_type": "code",
      "source": [
        "# init method of the super class\n",
        "\n",
        "class Animal:\n",
        "    def __init__(self, name, level, life):\n",
        "        self.name = name\n",
        "        self.level = level\n",
        "        self.life = life\n",
        "\n",
        "    def attack(self):\n",
        "      pass\n",
        "\n",
        "animal_dog = Animal(name=\"spiky\", level=4, life=25)\n",
        "\n",
        "print(animal_dog.name, animal_dog.level)"
      ],
      "metadata": {
        "colab": {
          "base_uri": "https://localhost:8080/"
        },
        "id": "I6hAruAgeMrh",
        "outputId": "b1a6c0fe-8dee-453a-98d9-b1fda27f8fb7"
      },
      "execution_count": 4,
      "outputs": [
        {
          "output_type": "stream",
          "name": "stdout",
          "text": [
            "spiky 4\n"
          ]
        }
      ]
    },
    {
      "cell_type": "markdown",
      "source": [
        "# Now we will build specific classes for different types of animals like cat and dog"
      ],
      "metadata": {
        "id": "tCHxpTs0g_UW"
      }
    },
    {
      "cell_type": "code",
      "source": [
        "class Dog(Animal):\n",
        "    def __init__(self, name, level, life):\n",
        "        super().__init__(name, level, life)\n",
        "\n",
        "\n",
        "dog = Dog(name=\"spiky\", level=5, life=25)\n",
        "\n",
        "print(dog.name, dog.level)"
      ],
      "metadata": {
        "colab": {
          "base_uri": "https://localhost:8080/"
        },
        "id": "-5GYsTnzhMwe",
        "outputId": "53f2a666-5cd4-4ea3-8aca-241ddaa42daa"
      },
      "execution_count": 5,
      "outputs": [
        {
          "output_type": "stream",
          "name": "stdout",
          "text": [
            "spiky 5\n"
          ]
        }
      ]
    },
    {
      "cell_type": "markdown",
      "source": [
        "# Building attack method for dog"
      ],
      "metadata": {
        "id": "yKh78ZnxnzV7"
      }
    },
    {
      "cell_type": "code",
      "source": [
        "class Dog(Animal):\n",
        "    def __init__(self, name, level, life):\n",
        "        super().__init__(name, level, life)\n",
        "\n",
        "    def attack(self, attack_type):\n",
        "        if attack_type == \"basic attack\":\n",
        "          damage = 2\n",
        "        elif attack_type == \"signature\":\n",
        "          damage = 5\n",
        "        elif attack_type == \"finisher\":\n",
        "          damage = 10\n",
        "\n",
        "        return damage\n",
        "\n",
        "dog = Dog(name=\"spiky\", level=5, life=25)\n",
        "\n",
        "dog.attack(\"finisher\")"
      ],
      "metadata": {
        "colab": {
          "base_uri": "https://localhost:8080/"
        },
        "id": "j6Q4POEtn3Id",
        "outputId": "d304b692-287a-423c-f2a7-4e8da01e958e"
      },
      "execution_count": 6,
      "outputs": [
        {
          "output_type": "execute_result",
          "data": {
            "text/plain": [
              "10"
            ]
          },
          "metadata": {},
          "execution_count": 6
        }
      ]
    },
    {
      "cell_type": "markdown",
      "source": [
        "# Similarly we do for cat"
      ],
      "metadata": {
        "id": "gw6nDXkaiJYg"
      }
    },
    {
      "cell_type": "code",
      "source": [
        "class Cat(Animal):\n",
        "    def __init__(self, name, level, life):\n",
        "        super().__init__(name, level, life)\n",
        "\n",
        "    def attack(self, attack_type):\n",
        "        if attack_type == \"basic attack\":\n",
        "          damage = 1\n",
        "        elif attack_type == \"signature\":\n",
        "          damage = 4\n",
        "        elif attack_type == \"finisher\":\n",
        "          damage = 9\n",
        "\n",
        "        return damage\n",
        "\n",
        "cat = Cat(name=\"whisker\", level=4, life=25)\n",
        "\n",
        "cat.attack(\"finisher\")"
      ],
      "metadata": {
        "colab": {
          "base_uri": "https://localhost:8080/"
        },
        "id": "yy403I2IiVqn",
        "outputId": "6ca65b9a-cc1b-4780-8caf-6cb7bd355332"
      },
      "execution_count": 7,
      "outputs": [
        {
          "output_type": "execute_result",
          "data": {
            "text/plain": [
              "9"
            ]
          },
          "metadata": {},
          "execution_count": 7
        }
      ]
    },
    {
      "cell_type": "markdown",
      "source": [
        "# Now lets build the game"
      ],
      "metadata": {
        "id": "RKC4bt8WkLw-"
      }
    },
    {
      "cell_type": "code",
      "source": [
        "import random\n",
        "\n",
        "def game(animal_1, animal_2):\n",
        "  print(f\"The game has started. The animals battling are {animal_1.name} vs. {animal_2.name}\")\n",
        "  print()\n",
        "  print()\n",
        "  print(f\"First come first serve.\")\n",
        "  print()\n",
        "  print()\n",
        "  animal_1_play = True\n",
        "\n",
        "  while animal_1.life > 0 and animal_2.life > 0:\n",
        "\n",
        "    if animal_1_play:\n",
        "      attack_type = random.choice([\"basic attack\", \"signature\", \"finisher\"])\n",
        "      animal_2.life -= animal_1.attack(attack_type)\n",
        "      print(f\"{animal_1.name} is attacking with its {attack_type}\")\n",
        "      print()\n",
        "      animal_1_play = False\n",
        "\n",
        "    else:\n",
        "      attack_type = random.choice([\"basic attack\", \"signature\", \"finisher\"])\n",
        "      animal_1.life -= animal_2.attack(attack_type)\n",
        "      print(f\"{animal_2.name} is attacking with its {attack_type}\")\n",
        "      print()\n",
        "      animal_1_play = True\n",
        "\n",
        "    print(f\"Current life: {animal_1.name} has life {animal_1.life}, {animal_2.name} has life {animal_2.life}\")\n",
        "    print()\n",
        "    print()\n",
        "\n",
        "  if animal_1.life > 0:\n",
        "    print(f\"The winner is {animal_1.name}\")\n",
        "  else:\n",
        "    print(f\"The winner is {animal_2.name}\")"
      ],
      "metadata": {
        "id": "MT486XjXkS9K"
      },
      "execution_count": 8,
      "outputs": []
    },
    {
      "cell_type": "code",
      "source": [
        "dog = Dog(name=\"spiky\", level=5, life=15)\n",
        "cat = Cat(name=\"whisker\", level=4, life=15)\n",
        "game(dog, cat)"
      ],
      "metadata": {
        "colab": {
          "base_uri": "https://localhost:8080/"
        },
        "id": "RE3waiUksVRX",
        "outputId": "67d6a788-1721-4542-f34c-cc4cbfb0839e"
      },
      "execution_count": 11,
      "outputs": [
        {
          "output_type": "stream",
          "name": "stdout",
          "text": [
            "The game has started. The animals battling are spiky vs. whisker\n",
            "\n",
            "\n",
            "First come first serve.\n",
            "\n",
            "\n",
            "spiky is attacking with its basic attack\n",
            "\n",
            "Current life: spiky has life 15, whisker has life 13\n",
            "\n",
            "\n",
            "whisker is attacking with its signature\n",
            "\n",
            "Current life: spiky has life 11, whisker has life 13\n",
            "\n",
            "\n",
            "spiky is attacking with its finisher\n",
            "\n",
            "Current life: spiky has life 11, whisker has life 3\n",
            "\n",
            "\n",
            "whisker is attacking with its basic attack\n",
            "\n",
            "Current life: spiky has life 10, whisker has life 3\n",
            "\n",
            "\n",
            "spiky is attacking with its finisher\n",
            "\n",
            "Current life: spiky has life 10, whisker has life -7\n",
            "\n",
            "\n",
            "The winner is spiky\n"
          ]
        }
      ]
    }
  ]
}