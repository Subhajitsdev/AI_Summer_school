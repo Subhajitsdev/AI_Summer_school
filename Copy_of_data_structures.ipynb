{
  "nbformat": 4,
  "nbformat_minor": 0,
  "metadata": {
    "colab": {
      "provenance": [],
      "include_colab_link": true
    },
    "kernelspec": {
      "name": "python3",
      "display_name": "Python 3"
    },
    "language_info": {
      "name": "python"
    }
  },
  "cells": [
    {
      "cell_type": "markdown",
      "metadata": {
        "id": "view-in-github",
        "colab_type": "text"
      },
      "source": [
        "<a href=\"https://colab.research.google.com/github/Subhajitsdev/AI_Summer_school/blob/main/Copy_of_data_structures.ipynb\" target=\"_parent\"><img src=\"https://colab.research.google.com/assets/colab-badge.svg\" alt=\"Open In Colab\"/></a>"
      ]
    },
    {
      "cell_type": "markdown",
      "source": [
        "# Data Structures\n",
        "\n",
        "- Data Structures are data storing formats\n",
        "- Each format would ease the access of data in a particular case\n",
        "- We will cover lists, tuples, sets and dictionaries"
      ],
      "metadata": {
        "id": "ziAZouJHdXkY"
      }
    },
    {
      "cell_type": "markdown",
      "source": [
        "# Lists\n",
        "\n",
        "  - An ordered data structure with elements separated by a comma and enclosed within square brackets\n",
        "\n",
        "\n",
        "\n"
      ],
      "metadata": {
        "id": "alWcpfJtvJEh"
      }
    },
    {
      "cell_type": "code",
      "source": [
        "# Defining a list\n",
        "lst = [1, 2, \"hello\", \"world\", True]\n",
        "lst"
      ],
      "metadata": {
        "colab": {
          "base_uri": "https://localhost:8080/"
        },
        "id": "_3h4Fnz5vZjr",
        "outputId": "11d771b5-6977-4a35-c01e-eae828d76acd"
      },
      "execution_count": null,
      "outputs": [
        {
          "output_type": "execute_result",
          "data": {
            "text/plain": [
              "[1, 2, 'hello', 'world', True]"
            ]
          },
          "metadata": {},
          "execution_count": 16
        }
      ]
    },
    {
      "cell_type": "code",
      "source": [
        "# Accessing individual elements of a list\n",
        "print(lst[0], lst[2])"
      ],
      "metadata": {
        "colab": {
          "base_uri": "https://localhost:8080/"
        },
        "id": "FC5pkYSxwdH4",
        "outputId": "87ae6743-9b3c-49cc-f9a6-794ee6b852be"
      },
      "execution_count": null,
      "outputs": [
        {
          "output_type": "stream",
          "name": "stdout",
          "text": [
            "1 hello\n"
          ]
        }
      ]
    },
    {
      "cell_type": "code",
      "source": [
        "# Length of the list\n",
        "len(lst)"
      ],
      "metadata": {
        "colab": {
          "base_uri": "https://localhost:8080/"
        },
        "id": "8nZi3npcwp9D",
        "outputId": "c2186993-c257-4361-e194-19b0d008a665"
      },
      "execution_count": null,
      "outputs": [
        {
          "output_type": "execute_result",
          "data": {
            "text/plain": [
              "5"
            ]
          },
          "metadata": {},
          "execution_count": 18
        }
      ]
    },
    {
      "cell_type": "code",
      "source": [
        "# Adding elements to the list\n",
        "lst.append(\"hi\")\n",
        "lst.append(\"bye\")\n",
        "lst"
      ],
      "metadata": {
        "colab": {
          "base_uri": "https://localhost:8080/"
        },
        "id": "oP2uiuYlw4GY",
        "outputId": "bc72083e-6abc-4ccd-c19c-81208e982754"
      },
      "execution_count": null,
      "outputs": [
        {
          "output_type": "execute_result",
          "data": {
            "text/plain": [
              "[1, 2, 'hello', 'world', True, 'hi', 'bye']"
            ]
          },
          "metadata": {},
          "execution_count": 19
        }
      ]
    },
    {
      "cell_type": "code",
      "source": [
        "# Creating list of number using for loop\n",
        "new_lst = []\n",
        "for i in range(20):\n",
        "  new_lst.append(i)\n",
        "new_lst"
      ],
      "metadata": {
        "colab": {
          "base_uri": "https://localhost:8080/"
        },
        "id": "yW4S2VrQx0J0",
        "outputId": "833c8f55-fbab-4398-c3b9-4b4b4eceb98e"
      },
      "execution_count": null,
      "outputs": [
        {
          "output_type": "execute_result",
          "data": {
            "text/plain": [
              "[0, 1, 2, 3, 4, 5, 6, 7, 8, 9, 10, 11, 12, 13, 14, 15, 16, 17, 18, 19]"
            ]
          },
          "metadata": {},
          "execution_count": 20
        }
      ]
    },
    {
      "cell_type": "code",
      "source": [
        "# Creating list of numbers using range\n",
        "new_lst = list(range(20))\n",
        "new_lst"
      ],
      "metadata": {
        "colab": {
          "base_uri": "https://localhost:8080/"
        },
        "id": "JNxWk3L5xYtD",
        "outputId": "c1d79d02-99ff-45a4-dd5e-db335d6aba67"
      },
      "execution_count": null,
      "outputs": [
        {
          "output_type": "execute_result",
          "data": {
            "text/plain": [
              "[0, 1, 2, 3, 4, 5, 6, 7, 8, 9, 10, 11, 12, 13, 14, 15, 16, 17, 18, 19]"
            ]
          },
          "metadata": {},
          "execution_count": 21
        }
      ]
    },
    {
      "cell_type": "code",
      "source": [
        "# Creating list of characters in a string using loop\n",
        "new_lst = []\n",
        "word = \"hello\"\n",
        "for i in range(len(word)):\n",
        "  new_lst.append(word[i])\n",
        "new_lst"
      ],
      "metadata": {
        "colab": {
          "base_uri": "https://localhost:8080/"
        },
        "id": "QZ30uMruyTiw",
        "outputId": "62181fc6-f7ff-4ece-89f6-ec07416a059f"
      },
      "execution_count": null,
      "outputs": [
        {
          "output_type": "execute_result",
          "data": {
            "text/plain": [
              "['h', 'e', 'l', 'l', 'o']"
            ]
          },
          "metadata": {},
          "execution_count": 22
        }
      ]
    },
    {
      "cell_type": "code",
      "source": [
        "# Creating list of characters in a string\n",
        "new_lst = list(\"hello\")\n",
        "new_lst"
      ],
      "metadata": {
        "colab": {
          "base_uri": "https://localhost:8080/"
        },
        "id": "ST8aRcW4xm0w",
        "outputId": "7075b187-ec43-4def-d4de-0f269a0ce44f"
      },
      "execution_count": null,
      "outputs": [
        {
          "output_type": "execute_result",
          "data": {
            "text/plain": [
              "['h', 'e', 'l', 'l', 'o']"
            ]
          },
          "metadata": {},
          "execution_count": 23
        }
      ]
    },
    {
      "cell_type": "code",
      "source": [
        "# Negative indexing in lists\n",
        "lst = [1, 2, 3, 4, 5]\n",
        "print(lst[-1], lst[-2])"
      ],
      "metadata": {
        "colab": {
          "base_uri": "https://localhost:8080/"
        },
        "id": "Dp-Yor9mxwbT",
        "outputId": "56ea0d7b-52ac-4181-bd4d-ceb9e15f1440"
      },
      "execution_count": null,
      "outputs": [
        {
          "output_type": "stream",
          "name": "stdout",
          "text": [
            "5 4\n"
          ]
        }
      ]
    },
    {
      "cell_type": "code",
      "source": [
        "# Slicing in lists\n",
        "lst = [1, 2, 3, 4, 5, 6, 7]\n",
        "print(lst[2:4])\n",
        "print(lst[2:])\n",
        "print(lst[:4])\n",
        "print(lst[-4:-2])\n",
        "print(lst[-4:])\n",
        "print(lst[:-2])\n",
        "print(lst == lst[:])"
      ],
      "metadata": {
        "colab": {
          "base_uri": "https://localhost:8080/"
        },
        "id": "5_cJMSqT0Gjt",
        "outputId": "2323068b-77f1-446d-fc8a-cbb273b1c70d"
      },
      "execution_count": null,
      "outputs": [
        {
          "output_type": "stream",
          "name": "stdout",
          "text": [
            "[3, 4]\n",
            "[3, 4, 5, 6, 7]\n",
            "[1, 2, 3, 4]\n",
            "[4, 5]\n",
            "[4, 5, 6, 7]\n",
            "[1, 2, 3, 4, 5]\n",
            "True\n"
          ]
        }
      ]
    },
    {
      "cell_type": "code",
      "source": [
        "# Removing an element in the list\n",
        "lst = [1, 2, 3, 2, 1]\n",
        "lst.remove(2)\n",
        "lst"
      ],
      "metadata": {
        "colab": {
          "base_uri": "https://localhost:8080/"
        },
        "id": "f7v8j_Sn0Z06",
        "outputId": "5a263982-c1c1-40c7-ab4b-d483ca99e030"
      },
      "execution_count": null,
      "outputs": [
        {
          "output_type": "execute_result",
          "data": {
            "text/plain": [
              "[1, 3, 2, 1]"
            ]
          },
          "metadata": {},
          "execution_count": 26
        }
      ]
    },
    {
      "cell_type": "markdown",
      "source": [
        "# Tuples\n",
        "- An ordered data structure with elements separated by a comma and enclosed within parenthesis\n",
        "- Tuples are immutable (i.e. their value cant be changed)\n",
        "- All the methods of list apply here except for anything that changes value of the tuple (immutable)"
      ],
      "metadata": {
        "id": "SFbBeIXA0t_z"
      }
    },
    {
      "cell_type": "code",
      "source": [
        "# Defining a tuple\n",
        "tup = (1, 2, 3, 4, 5)\n",
        "tup"
      ],
      "metadata": {
        "colab": {
          "base_uri": "https://localhost:8080/"
        },
        "id": "EM5VaNn808vc",
        "outputId": "2e4566bc-0ba1-46af-9e15-e6c1f3a07caa"
      },
      "execution_count": null,
      "outputs": [
        {
          "output_type": "execute_result",
          "data": {
            "text/plain": [
              "(1, 2, 3, 4, 5)"
            ]
          },
          "metadata": {},
          "execution_count": 27
        }
      ]
    },
    {
      "cell_type": "code",
      "source": [
        "# Changing the value of the tuple at an index\n",
        "tup[2] = 8"
      ],
      "metadata": {
        "colab": {
          "base_uri": "https://localhost:8080/",
          "height": 179
        },
        "id": "9eS1NfQN1uE4",
        "outputId": "ee60bc99-dc98-478b-b039-da79169646b6"
      },
      "execution_count": null,
      "outputs": [
        {
          "output_type": "error",
          "ename": "TypeError",
          "evalue": "'tuple' object does not support item assignment",
          "traceback": [
            "\u001b[0;31m---------------------------------------------------------------------------\u001b[0m",
            "\u001b[0;31mTypeError\u001b[0m                                 Traceback (most recent call last)",
            "\u001b[0;32m<ipython-input-28-246b11b30396>\u001b[0m in \u001b[0;36m<cell line: 2>\u001b[0;34m()\u001b[0m\n\u001b[1;32m      1\u001b[0m \u001b[0;31m# Changing the value of the tuple at an index\u001b[0m\u001b[0;34m\u001b[0m\u001b[0;34m\u001b[0m\u001b[0m\n\u001b[0;32m----> 2\u001b[0;31m \u001b[0mtup\u001b[0m\u001b[0;34m[\u001b[0m\u001b[0;36m2\u001b[0m\u001b[0;34m]\u001b[0m \u001b[0;34m=\u001b[0m \u001b[0;36m8\u001b[0m\u001b[0;34m\u001b[0m\u001b[0;34m\u001b[0m\u001b[0m\n\u001b[0m",
            "\u001b[0;31mTypeError\u001b[0m: 'tuple' object does not support item assignment"
          ]
        }
      ]
    },
    {
      "cell_type": "code",
      "source": [
        "# Example definition that is wont turn out to be a tuple\n",
        "tup = (4)\n",
        "print(tup, type(tup))\n",
        "lst = [4]\n",
        "print(lst, type(lst))"
      ],
      "metadata": {
        "colab": {
          "base_uri": "https://localhost:8080/"
        },
        "id": "KeSY8mFl1xcE",
        "outputId": "6992ba48-a196-4721-8e3d-90d36a04c741"
      },
      "execution_count": null,
      "outputs": [
        {
          "output_type": "stream",
          "name": "stdout",
          "text": [
            "4 <class 'int'>\n",
            "[4] <class 'list'>\n"
          ]
        }
      ]
    },
    {
      "cell_type": "markdown",
      "source": [
        "# Sets\n",
        "- An ordered data structure with elements separated by a comma and enclosed within curly brackets\n",
        "- Sets are always sorted"
      ],
      "metadata": {
        "id": "RlJAGZ3Q2XqP"
      }
    },
    {
      "cell_type": "code",
      "source": [
        "# A numerical set\n",
        "s = {5, 3, 7, 2, 10}\n",
        "s"
      ],
      "metadata": {
        "colab": {
          "base_uri": "https://localhost:8080/"
        },
        "id": "CdWQGixz2ld2",
        "outputId": "ef02b0b6-9a9f-4633-da30-ce09f886b1a7"
      },
      "execution_count": null,
      "outputs": [
        {
          "output_type": "execute_result",
          "data": {
            "text/plain": [
              "{2, 3, 5, 7, 10}"
            ]
          },
          "metadata": {},
          "execution_count": 30
        }
      ]
    },
    {
      "cell_type": "code",
      "source": [
        "# A word set\n",
        "s = {\"cherry\", \"apple\", \"banana\"}\n",
        "s"
      ],
      "metadata": {
        "colab": {
          "base_uri": "https://localhost:8080/"
        },
        "id": "gScFFQBx2xqf",
        "outputId": "a39a1b99-a714-44f9-ea19-ee2790ecfebe"
      },
      "execution_count": null,
      "outputs": [
        {
          "output_type": "execute_result",
          "data": {
            "text/plain": [
              "{'apple', 'banana', 'cherry'}"
            ]
          },
          "metadata": {},
          "execution_count": 31
        }
      ]
    },
    {
      "cell_type": "code",
      "source": [
        "# Set intersection, union and difference\n",
        "\n",
        "sample_set_1 = {1, 2, 3, 4, 5, 6, 7}\n",
        "sample_set_2 = {1, 2, 3, 4, 5, 8}\n",
        "\n",
        "\n",
        "print(\"The sets: \", sample_set_1, sample_set_2)\n",
        "print(\"Intersection: \", sample_set_1 & sample_set_2)\n",
        "print(\"Union: \", sample_set_1 | sample_set_2)\n",
        "print(\"Difference: \", sample_set_1 - sample_set_2)"
      ],
      "metadata": {
        "colab": {
          "base_uri": "https://localhost:8080/"
        },
        "id": "LI563LAz28AD",
        "outputId": "98b21ffa-0b2b-4708-d6be-48a2d3bcfc00"
      },
      "execution_count": null,
      "outputs": [
        {
          "output_type": "stream",
          "name": "stdout",
          "text": [
            "The sets:  {1, 2, 3, 4, 5, 6, 7} {1, 2, 3, 4, 5, 8}\n",
            "Intersection:  {1, 2, 3, 4, 5}\n",
            "Union:  {1, 2, 3, 4, 5, 6, 7, 8}\n",
            "Difference:  {6, 7}\n"
          ]
        }
      ]
    },
    {
      "cell_type": "markdown",
      "source": [
        "# Dictionary\n",
        "- A Dictionary is collection of key-value pairs\n",
        "- Keys of a dictionary are unique but values can have duplicates"
      ],
      "metadata": {
        "id": "_4XRH_Dx3a_s"
      }
    },
    {
      "cell_type": "code",
      "source": [
        "# Defining a dict\n",
        "shop = {\"pen\": 5,\n",
        "        \"pencil\": 3,\n",
        "        \"book\": 10,\n",
        "        \"sharpener\": 3}\n",
        "shop"
      ],
      "metadata": {
        "colab": {
          "base_uri": "https://localhost:8080/"
        },
        "id": "mgB3YfJh3sXD",
        "outputId": "5e9247c9-0026-4012-84cb-a1c47667dce1"
      },
      "execution_count": null,
      "outputs": [
        {
          "output_type": "execute_result",
          "data": {
            "text/plain": [
              "{'pen': 5, 'pencil': 3, 'book': 10, 'sharpener': 3}"
            ]
          },
          "metadata": {},
          "execution_count": 33
        }
      ]
    },
    {
      "cell_type": "code",
      "source": [
        "# Accessing an element\n",
        "print(f\"Price of the pen is\", shop[\"pen\"], \"rupees\")"
      ],
      "metadata": {
        "colab": {
          "base_uri": "https://localhost:8080/"
        },
        "id": "42e1gTvl45Ps",
        "outputId": "4d1262ac-12d7-4951-c1ea-0d0020fffcbb"
      },
      "execution_count": null,
      "outputs": [
        {
          "output_type": "stream",
          "name": "stdout",
          "text": [
            "Price of the pen is 5 rupees\n"
          ]
        }
      ]
    },
    {
      "cell_type": "code",
      "source": [
        "# Adding an element\n",
        "shop[\"eraser\"] = 2\n",
        "shop"
      ],
      "metadata": {
        "colab": {
          "base_uri": "https://localhost:8080/"
        },
        "id": "b0S-91h35IR8",
        "outputId": "7bf096de-8f15-45ad-b667-506e53a2d4e5"
      },
      "execution_count": null,
      "outputs": [
        {
          "output_type": "execute_result",
          "data": {
            "text/plain": [
              "{'pen': 5, 'pencil': 3, 'book': 10, 'sharpener': 3, 'eraser': 2}"
            ]
          },
          "metadata": {},
          "execution_count": 35
        }
      ]
    },
    {
      "cell_type": "code",
      "source": [
        "# Removing an element\n",
        "shop.pop(\"pencil\")\n",
        "shop"
      ],
      "metadata": {
        "colab": {
          "base_uri": "https://localhost:8080/"
        },
        "id": "hEMy5At35u7u",
        "outputId": "ea7b0c58-3df9-4f6e-efea-a7aae60b0cc1"
      },
      "execution_count": null,
      "outputs": [
        {
          "output_type": "execute_result",
          "data": {
            "text/plain": [
              "{'pen': 5, 'book': 10, 'sharpener': 3, 'eraser': 2}"
            ]
          },
          "metadata": {},
          "execution_count": 36
        }
      ]
    },
    {
      "cell_type": "code",
      "source": [
        "# Getting the keys of the dictionary\n",
        "shop_keys = shop.keys()\n",
        "shop_keys"
      ],
      "metadata": {
        "colab": {
          "base_uri": "https://localhost:8080/"
        },
        "id": "CYTN80vF5aeX",
        "outputId": "199dfc04-6cdb-4cf5-846a-643368390b9c"
      },
      "execution_count": null,
      "outputs": [
        {
          "output_type": "execute_result",
          "data": {
            "text/plain": [
              "dict_keys(['pen', 'book', 'sharpener', 'eraser'])"
            ]
          },
          "metadata": {},
          "execution_count": 37
        }
      ]
    },
    {
      "cell_type": "code",
      "source": [
        "# Getting the values of the dictionary\n",
        "shop_values = shop.values()\n",
        "shop_values"
      ],
      "metadata": {
        "colab": {
          "base_uri": "https://localhost:8080/"
        },
        "id": "2XfcNU7F5hmt",
        "outputId": "f2597780-5bcb-42f6-8cbd-2c8563b0f382"
      },
      "execution_count": null,
      "outputs": [
        {
          "output_type": "execute_result",
          "data": {
            "text/plain": [
              "dict_values([5, 10, 3, 2])"
            ]
          },
          "metadata": {},
          "execution_count": 38
        }
      ]
    },
    {
      "cell_type": "markdown",
      "source": [
        "# Question\n",
        "- To answer go to slido.com\n",
        "- Put the passcode: 3823580\n",
        "- Or scan the QR below\n",
        "\n",
        "\n",
        "\n",
        "\n",
        "\n",
        "\n",
        "![Screenshot 2024-06-16 at 11-39-09 data structures question.png](data:image/png;base64,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)\n"
      ],
      "metadata": {
        "id": "D0k2fF3ukjsH"
      }
    },
    {
      "cell_type": "markdown",
      "source": [
        "# Classes and Objects Game\n",
        "\n",
        "## In this example we will build a game with animal super class, a dog class and a cat class inheriting from the animal class.\n",
        "\n",
        "## Here two animals apply their attack subsequently and we will determine the winner."
      ],
      "metadata": {
        "id": "-HRZVJ4TeGDr"
      }
    },
    {
      "cell_type": "code",
      "source": [
        "# init method of the super class\n",
        "\n",
        "class Animal:\n",
        "    def __init__(self, name, level, life):\n",
        "        self.name = name\n",
        "        self.level = level\n",
        "        self.life = life\n",
        "\n",
        "    def attack(self):\n",
        "      pass\n",
        "\n",
        "animal_dog = Animal(name=\"spiky\", level=4, life=25)\n",
        "\n",
        "print(animal_dog.name, animal_dog.level)"
      ],
      "metadata": {
        "colab": {
          "base_uri": "https://localhost:8080/"
        },
        "id": "I6hAruAgeMrh",
        "outputId": "eee1fd58-c5ae-4875-b93b-73b16ebb29a9"
      },
      "execution_count": null,
      "outputs": [
        {
          "output_type": "stream",
          "name": "stdout",
          "text": [
            "spiky 4\n"
          ]
        }
      ]
    },
    {
      "cell_type": "markdown",
      "source": [
        "# Now we will build specific classes for different types of animals like cat and dog"
      ],
      "metadata": {
        "id": "tCHxpTs0g_UW"
      }
    },
    {
      "cell_type": "code",
      "source": [
        "class Dog(Animal):\n",
        "    def __init__(self, name, level, life):\n",
        "        super().__init__(name, level, life)\n",
        "\n",
        "\n",
        "dog = Dog(name=\"spiky\", level=5, life=25)\n",
        "\n",
        "print(dog.name, dog.level)"
      ],
      "metadata": {
        "colab": {
          "base_uri": "https://localhost:8080/"
        },
        "id": "-5GYsTnzhMwe",
        "outputId": "be4c37be-716a-42dd-f4ec-420131396bbf"
      },
      "execution_count": null,
      "outputs": [
        {
          "output_type": "stream",
          "name": "stdout",
          "text": [
            "spiky 5\n"
          ]
        }
      ]
    },
    {
      "cell_type": "markdown",
      "source": [
        "# Building attack method for dog"
      ],
      "metadata": {
        "id": "yKh78ZnxnzV7"
      }
    },
    {
      "cell_type": "code",
      "source": [
        "class Dog(Animal):\n",
        "    def __init__(self, name, level, life):\n",
        "        super().__init__(name, level, life)\n",
        "\n",
        "    def attack(self, attack_type):\n",
        "        if attack_type == \"basic attack\":\n",
        "          damage = 2\n",
        "        elif attack_type == \"signature\":\n",
        "          damage = 5\n",
        "        elif attack_type == \"finisher\":\n",
        "          damage = 10\n",
        "\n",
        "        return damage\n",
        "\n",
        "dog = Dog(name=\"spiky\", level=5, life=25)\n",
        "\n",
        "dog.attack(\"finisher\")"
      ],
      "metadata": {
        "colab": {
          "base_uri": "https://localhost:8080/"
        },
        "id": "j6Q4POEtn3Id",
        "outputId": "5e940a35-a64f-4f61-bd61-3b2788d7aa5d"
      },
      "execution_count": null,
      "outputs": [
        {
          "output_type": "execute_result",
          "data": {
            "text/plain": [
              "10"
            ]
          },
          "metadata": {},
          "execution_count": 41
        }
      ]
    },
    {
      "cell_type": "markdown",
      "source": [
        "# Similarly we do for cat"
      ],
      "metadata": {
        "id": "gw6nDXkaiJYg"
      }
    },
    {
      "cell_type": "code",
      "source": [
        "class Cat(Animal):\n",
        "    def __init__(self, name, level, life):\n",
        "        super().__init__(name, level, life)\n",
        "\n",
        "    def attack(self, attack_type):\n",
        "        if attack_type == \"basic attack\":\n",
        "          damage = 1\n",
        "        elif attack_type == \"signature\":\n",
        "          damage = 4\n",
        "        elif attack_type == \"finisher\":\n",
        "          damage = 9\n",
        "\n",
        "        return damage\n",
        "\n",
        "cat = Cat(name=\"whisker\", level=4, life=25)\n",
        "\n",
        "cat.attack(\"finisher\")"
      ],
      "metadata": {
        "colab": {
          "base_uri": "https://localhost:8080/"
        },
        "id": "yy403I2IiVqn",
        "outputId": "684c9c8a-1f25-45c7-958d-fe24b332a551"
      },
      "execution_count": null,
      "outputs": [
        {
          "output_type": "execute_result",
          "data": {
            "text/plain": [
              "9"
            ]
          },
          "metadata": {},
          "execution_count": 42
        }
      ]
    },
    {
      "cell_type": "markdown",
      "source": [
        "# Now lets build the game"
      ],
      "metadata": {
        "id": "RKC4bt8WkLw-"
      }
    },
    {
      "cell_type": "code",
      "source": [
        "import random\n",
        "\n",
        "def game(animal_1, animal_2):\n",
        "  print(f\"The game has started. The animals battling are {animal_1.name} vs. {animal_2.name}\")\n",
        "  print()\n",
        "  print()\n",
        "  print(f\"First come first serve.\")\n",
        "  print()\n",
        "  print()\n",
        "  animal_1_play = True\n",
        "\n",
        "  while animal_1.life > 0 and animal_2.life > 0:\n",
        "\n",
        "    if animal_1_play:\n",
        "      attack_type = random.choice([\"basic attack\", \"signature\", \"finisher\"])\n",
        "      animal_2.life -= animal_1.attack(attack_type)\n",
        "      print(f\"{animal_1.name} is attacking with its {attack_type}\")\n",
        "      print()\n",
        "      animal_1_play = False\n",
        "\n",
        "    else:\n",
        "      attack_type = random.choice([\"basic attack\", \"signature\", \"finisher\"])\n",
        "      animal_1.life -= animal_2.attack(attack_type)\n",
        "      print(f\"{animal_2.name} is attacking with its {attack_type}\")\n",
        "      print()\n",
        "      animal_1_play = True\n",
        "\n",
        "    print(f\"Current life: {animal_1.name} has life {animal_1.life}, {animal_2.name} has life {animal_2.life}\")\n",
        "    print()\n",
        "    print()\n",
        "\n",
        "  if animal_1.life > 0:\n",
        "    print(f\"The winner is {animal_1.name}\")\n",
        "  else:\n",
        "    print(f\"The winner is {animal_2.name}\")"
      ],
      "metadata": {
        "id": "MT486XjXkS9K"
      },
      "execution_count": null,
      "outputs": []
    },
    {
      "cell_type": "code",
      "source": [
        "dog = Dog(name=\"spiky\", level=5, life=15)\n",
        "cat = Cat(name=\"whisker\", level=4, life=15)\n",
        "game(dog, cat)"
      ],
      "metadata": {
        "colab": {
          "base_uri": "https://localhost:8080/"
        },
        "id": "RE3waiUksVRX",
        "outputId": "3aa6c9e3-8651-40b6-9f6d-b789ce589fc0"
      },
      "execution_count": null,
      "outputs": [
        {
          "output_type": "stream",
          "name": "stdout",
          "text": [
            "The game has started. The animals battling are spiky vs. whisker\n",
            "\n",
            "\n",
            "First come first serve.\n",
            "\n",
            "\n",
            "spiky is attacking with its signature\n",
            "\n",
            "Current life: spiky has life 15, whisker has life 10\n",
            "\n",
            "\n",
            "whisker is attacking with its basic attack\n",
            "\n",
            "Current life: spiky has life 14, whisker has life 10\n",
            "\n",
            "\n",
            "spiky is attacking with its finisher\n",
            "\n",
            "Current life: spiky has life 14, whisker has life 0\n",
            "\n",
            "\n",
            "The winner is spiky\n"
          ]
        }
      ]
    },
    
    }
  ]
}
